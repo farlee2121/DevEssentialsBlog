{
 "cells": [
  {
   "cell_type": "code",
   "execution_count": 2,
   "metadata": {},
   "outputs": [],
   "source": [
    "#r \"nuget:XPlot.Plotly, 3.0.1\""
   ]
  },
  {
   "cell_type": "code",
   "execution_count": 69,
   "metadata": {},
   "outputs": [
    {
     "data": {
      "text/html": [
       "<div id=\"1ab85dbf-e23a-4a43-ac9d-2769ae9596a1\" style=\"width: 900px; height: 500px;\"></div><script type=\"text/javascript\">\r\n",
       "\r\n",
       "var renderPlotly = function() {\r\n",
       "    var xplotRequire = requirejs.config({context:'xplot-2.0.0',paths:{plotly:'https://cdn.plot.ly/plotly-1.49.2.min'}});\r\n",
       "    xplotRequire(['plotly'], function(Plotly) {\r\n",
       "\n",
       "            var data = [{\"type\":\"scatter\",\"x\":[1,2,3,4],\"y\":[12,9,15,12],\"mode\":\"lines+markers\"}];\n",
       "            var layout = {\"title\":\"Duration/Cost - Compressed Solutions\",\"xaxis\":{\"title\":\"Project Duration\",\"showticklabels\":false,\"showgrid\":true,\"_isSubplotObj\":true},\"yaxis\":{\"title\":\"Cost\",\"showticklabels\":false,\"_isSubplotObj\":true},\"annotations\":[{\"text\":\"Max Compression\",\"x\":1,\"yref\":\"paper\",\"y\":1}],\"shapes\":[{\"type\":\"line\",\"x0\":1,\"x1\":1,\"yref\":\"paper\",\"y0\":0,\"y1\":1,\"line\":{\"color\":\"red\",\"dash\":\"dash\"}}]};\n",
       "            Plotly.newPlot('1ab85dbf-e23a-4a43-ac9d-2769ae9596a1', data, layout);\n",
       "        });\r\n",
       "};\r\n",
       "if ((typeof(requirejs) !==  typeof(Function)) || (typeof(requirejs.config) !== typeof(Function))) { \r\n",
       "    var script = document.createElement(\"script\"); \r\n",
       "    script.setAttribute(\"src\", \"https://cdnjs.cloudflare.com/ajax/libs/require.js/2.3.6/require.min.js\"); \r\n",
       "    script.onload = function(){\r\n",
       "        renderPlotly();\r\n",
       "    };\r\n",
       "    document.getElementsByTagName(\"head\")[0].appendChild(script); \r\n",
       "}\r\n",
       "else {\r\n",
       "    renderPlotly();\r\n",
       "}\r\n",
       "</script>"
      ]
     },
     "execution_count": 69,
     "metadata": {},
     "output_type": "execute_result"
    }
   ],
   "source": [
    "open XPlot.Plotly \n",
    "//https://fslab.org/XPlot/chart/google-line-chart.html\n",
    "//https://fslab.org/XPlot/chart/plotly-line-scatter-plots.html\n",
    "let x  = [1.; 2.; 3.; 4.; 5.; 6.; 7.; 8.; 9.; 10.; ]\n",
    "let y' = [2.; 1.5; 5.; 1.5; 3.; 2.5; 2.5; 1.5; 3.5; 1.]\n",
    "\n",
    "let lineTrace3 =\n",
    "    Scatter(\n",
    "        x = [1; 2; 3; 4],\n",
    "        y = [12; 9; 15; 12],\n",
    "        mode = \"lines+markers\"\n",
    "    )\n",
    "let maxCompressionLine = (new Graph.Shape(x0 = 1, x1=1, y0=0, y1=1, ``type``=\"line\", yref=\"paper\", line=Graph.Line(color=\"red\", dash=\"dash\")))\n",
    "let maxCompressionLabel = (new XPlot.Plotly.Graph.Annotation(yref=\"paper\", y=1, x=1, text=\"Max Compression\"))   \n",
    "\n",
    "    \n",
    "lineTrace3\n",
    "|> Chart.Plot\n",
    "|> Chart.WithLayout (Layout(\n",
    "                            xaxis = Xaxis(showticklabels=false),\n",
    "                            yaxis = Yaxis(showticklabels=false),\n",
    "                            annotations = [maxCompressionLabel],\n",
    "                            shapes = [maxCompressionLine]\n",
    "                           ))\n",
    "|> Chart.WithTitle \"Duration/Cost - Compressed Solutions\"\n",
    "|> Chart.WithXTitle \"Project Duration\"\n",
    "|> Chart.WithYTitle \"Cost\"\n",
    "\n",
    "\n",
    "\n",
    "// var groupedTrace1 =\n",
    "//     new {\n",
    "//         x = new string[]{\"giraffes\", \"orangutans\", \"monkeys\"},\n",
    "//         y = new int[]{20, 14, 23},\n",
    "//         name= \"SF Zoo\"            \n",
    "//     };\n",
    "\n",
    "// var groupedTrace2 =\n",
    "//     new Bar{\n",
    "//         x = new string[]{\"giraffes\", \"orangutans\", \"monkeys\"},\n",
    "//         y = new int[]{12, 18, 29},\n",
    "//         name = \"LA Zoo\"\n",
    "//     };\n",
    "\n",
    "// var groupedLayout = new Layout.Layout{barmode = \"group\"};\n",
    "// var chart = Chart.Plot(new []{groupedTrace1, groupedTrace2});\n",
    "// chart.WithLayout(groupedLayout);\n",
    "// display(chart);"
   ]
  },
  {
   "cell_type": "code",
   "execution_count": null,
   "metadata": {},
   "outputs": [],
   "source": []
  }
 ],
 "metadata": {
  "kernelspec": {
   "display_name": ".NET (F#)",
   "language": "F#",
   "name": ".net-fsharp"
  },
  "language_info": {
   "file_extension": ".fs",
   "mimetype": "text/x-fsharp",
   "name": "C#",
   "pygments_lexer": "fsharp",
   "version": "4.5"
  }
 },
 "nbformat": 4,
 "nbformat_minor": 4
}

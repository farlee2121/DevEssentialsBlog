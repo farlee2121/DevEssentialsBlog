{
 "cells": [
  {
   "cell_type": "code",
   "execution_count": 2,
   "metadata": {},
   "outputs": [],
   "source": [
    "#r \"nuget:XPlot.Plotly, 3.0.1\""
   ]
  },
  {
   "cell_type": "code",
   "execution_count": 30,
   "metadata": {},
   "outputs": [
    {
     "data": {
      "text/html": [
       "<div id=\"ebcadcc8-0249-4615-acfc-992dbb396684\" style=\"width: 900px; height: 500px;\"></div><script type=\"text/javascript\">\r\n",
       "\r\n",
       "var renderPlotly = function() {\r\n",
       "    var xplotRequire = requirejs.config({context:'xplot-2.0.0',paths:{plotly:'https://cdn.plot.ly/plotly-1.49.2.min'}});\r\n",
       "    xplotRequire(['plotly'], function(Plotly) {\r\n",
       "\n",
       "            var data = [{\"type\":\"scatter\",\"x\":[1.05,1.2,1.3,2.0,3.0,4.0],\"y\":[227.70914819944596,167.73032258064518,140.91818791946307,61.63157894736842,36.72727272727273,33.65822784810126],\"text\":[\"C5\",\"C4\",\"C3\",\"C2\",\"C1\",\"Normal\"],\"mode\":\"lines+markers+text\",\"textposition\":\"top center\"}];\n",
       "            var layout = {\"title\":\"Duration/Cost - Compressed Solutions\",\"xaxis\":{\"title\":\"Project Duration\",\"showticklabels\":false,\"showline\":true,\"_isSubplotObj\":true},\"yaxis\":{\"title\":\"Cost\",\"showticklabels\":false,\"showline\":true,\"_isSubplotObj\":true},\"annotations\":[{\"text\":\"Max Compression\",\"x\":1,\"yref\":\"paper\",\"y\":1}],\"shapes\":[{\"type\":\"line\",\"x0\":1,\"x1\":1,\"yref\":\"paper\",\"y0\":0,\"y1\":1,\"line\":{\"color\":\"red\",\"dash\":\"dash\"}}]};\n",
       "            Plotly.newPlot('ebcadcc8-0249-4615-acfc-992dbb396684', data, layout);\n",
       "        });\r\n",
       "};\r\n",
       "if ((typeof(requirejs) !==  typeof(Function)) || (typeof(requirejs.config) !== typeof(Function))) { \r\n",
       "    var script = document.createElement(\"script\"); \r\n",
       "    script.setAttribute(\"src\", \"https://cdnjs.cloudflare.com/ajax/libs/require.js/2.3.6/require.min.js\"); \r\n",
       "    script.onload = function(){\r\n",
       "        renderPlotly();\r\n",
       "    };\r\n",
       "    document.getElementsByTagName(\"head\")[0].appendChild(script); \r\n",
       "}\r\n",
       "else {\r\n",
       "    renderPlotly();\r\n",
       "}\r\n",
       "</script>"
      ]
     },
     "execution_count": 30,
     "metadata": {},
     "output_type": "execute_result"
    }
   ],
   "source": [
    "open XPlot.Plotly \n",
    "//https://fslab.org/XPlot/chart/google-line-chart.html\n",
    "//https://fslab.org/XPlot/chart/plotly-line-scatter-plots.html\n",
    "let x  = [1.2; 1.3; 2.; 3.; 4.;]\n",
    "\n",
    "let duration = [ 1.;1.2; 1.3; 2.; 3.; 4.;]\n",
    "    //[|10..1..100|] |> Seq.map ((/) 10)\n",
    "let directCostfn (x: float) = 1000./(5.*x**2. - 1.) + x**2. + 5.\n",
    "let directCost = duration |> Seq.map directCostfn\n",
    "let directCostLine =\n",
    "    Scatter(\n",
    "        x = duration,\n",
    "        y = directCost,\n",
    "        //https://plotly.com/python/text-and-annotations/\n",
    "        text = [\"C5\";\"C4\";\"C3\";\"C2\";\"C1\";\"Normal\"],\n",
    "        textposition=\"top center\",\n",
    "        mode = \"lines+markers+text\"\n",
    "    )\n",
    "let maxCompressionLine = (new Graph.Shape(x0 = 1, x1=1, y0=0, y1=1, ``type``=\"line\", yref=\"paper\", line=Graph.Line(color=\"red\", dash=\"dash\")))\n",
    "let maxCompressionLabel = (new XPlot.Plotly.Graph.Annotation(yref=\"paper\", y=1, x=1, text=\"Max Compression\"))   \n",
    "\n",
    "    \n",
    "directCostLine\n",
    "|> Chart.Plot\n",
    "|> Chart.WithLayout (Layout(\n",
    "                            xaxis = Xaxis(showticklabels=false, showline=true),\n",
    "                            yaxis = Yaxis(showticklabels=false, showline=true),\n",
    "                            annotations = [maxCompressionLabel],\n",
    "                            shapes = [maxCompressionLine]\n",
    "                           ))\n",
    "|> Chart.WithTitle \"Duration/Cost - Compressed Solutions\"\n",
    "|> Chart.WithXTitle \"Project Duration\"\n",
    "|> Chart.WithYTitle \"Cost\""
   ]
  },
  {
   "cell_type": "code",
   "execution_count": null,
   "metadata": {},
   "outputs": [],
   "source": []
  },
  {
   "cell_type": "code",
   "execution_count": null,
   "metadata": {},
   "outputs": [],
   "source": []
  }
 ],
 "metadata": {
  "kernelspec": {
   "display_name": ".NET (F#)",
   "language": "F#",
   "name": ".net-fsharp"
  },
  "language_info": {
   "file_extension": ".fs",
   "mimetype": "text/x-fsharp",
   "name": "C#",
   "pygments_lexer": "fsharp",
   "version": "4.5"
  }
 },
 "nbformat": 4,
 "nbformat_minor": 4
}

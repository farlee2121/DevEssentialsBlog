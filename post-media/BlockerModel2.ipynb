{
 "cells": [
  {
   "cell_type": "code",
   "execution_count": null,
   "metadata": {},
   "outputs": [
    {
     "data": {
      "text/html": "\r\n<div>\r\n    <div id='dotnet-interactive-this-cell-35880.Microsoft.DotNet.Interactive.Http.HttpPort' style='display: none'>\r\n        The below script needs to be able to find the current output cell; this is an easy method to get it.\r\n    </div>\r\n    <script type='text/javascript'>\r\nasync function probeAddresses(probingAddresses) {\r\n    function timeout(ms, promise) {\r\n        return new Promise(function (resolve, reject) {\r\n            setTimeout(function () {\r\n                reject(new Error('timeout'))\r\n            }, ms)\r\n            promise.then(resolve, reject)\r\n        })\r\n    }\r\n\r\n    if (Array.isArray(probingAddresses)) {\r\n        for (let i = 0; i < probingAddresses.length; i++) {\r\n\r\n            let rootUrl = probingAddresses[i];\r\n\r\n            if (!rootUrl.endsWith('/')) {\r\n                rootUrl = `${rootUrl}/`;\r\n            }\r\n\r\n            try {\r\n                let response = await timeout(1000, fetch(`${rootUrl}discovery`, {\r\n                    method: 'POST',\r\n                    cache: 'no-cache',\r\n                    mode: 'cors',\r\n                    timeout: 1000,\r\n                    headers: {\r\n                        'Content-Type': 'text/plain'\r\n                    },\r\n                    body: probingAddresses[i]\r\n                }));\r\n\r\n                if (response.status == 200) {\r\n                    return rootUrl;\r\n                }\r\n            }\r\n            catch (e) { }\r\n        }\r\n    }\r\n}\r\n\r\nfunction loadDotnetInteractiveApi() {\r\n    probeAddresses([\"http://172.29.208.1:1000/\", \"http://172.30.240.1:1000/\", \"http://172.24.32.1:1000/\", \"http://192.168.1.9:1000/\", \"http://172.23.192.1:1000/\", \"http://127.0.0.1:1000/\"])\r\n        .then((root) => {\r\n        // use probing to find host url and api resources\r\n        // load interactive helpers and language services\r\n        let dotnetInteractiveRequire = require.config({\r\n        context: '35880.Microsoft.DotNet.Interactive.Http.HttpPort',\r\n                paths:\r\n            {\r\n                'dotnet-interactive': `${root}resources`\r\n                }\r\n        }) || require;\r\n\r\n            window.dotnetInteractiveRequire = dotnetInteractiveRequire;\r\n\r\n            window.configureRequireFromExtension = function(extensionName, extensionCacheBuster) {\r\n                let paths = {};\r\n                paths[extensionName] = `${root}extensions/${extensionName}/resources/`;\r\n                \r\n                let internalRequire = require.config({\r\n                    context: extensionCacheBuster,\r\n                    paths: paths,\r\n                    urlArgs: `cacheBuster=${extensionCacheBuster}`\r\n                    }) || require;\r\n\r\n                return internalRequire\r\n            };\r\n        \r\n            dotnetInteractiveRequire([\r\n                    'dotnet-interactive/dotnet-interactive'\r\n                ],\r\n                function (dotnet) {\r\n                    dotnet.init(window);\r\n                },\r\n                function (error) {\r\n                    console.log(error);\r\n                }\r\n            );\r\n        })\r\n        .catch(error => {console.log(error);});\r\n    }\r\n\r\n// ensure `require` is available globally\r\nif ((typeof(require) !==  typeof(Function)) || (typeof(require.config) !== typeof(Function))) {\r\n    let require_script = document.createElement('script');\r\n    require_script.setAttribute('src', 'https://cdnjs.cloudflare.com/ajax/libs/require.js/2.3.6/require.min.js');\r\n    require_script.setAttribute('type', 'text/javascript');\r\n    \r\n    \r\n    require_script.onload = function() {\r\n        loadDotnetInteractiveApi();\r\n    };\r\n\r\n    document.getElementsByTagName('head')[0].appendChild(require_script);\r\n}\r\nelse {\r\n    loadDotnetInteractiveApi();\r\n}\r\n\r\n    </script>\r\n</div>"
     },
     "metadata": {},
     "output_type": "display_data"
    }
   ],
   "source": [
    "#!fsharp\r\n",
    "open System;\r\n",
    "module rec BlockerModel = \r\n",
    "    \r\n",
    "\r\n",
    "    // type UpdateRuleSchedule = UpdateRuleCommand -> Result<UpdateEvents, ValidateRuleError list>\r\n",
    "    // type DeleteBlockRule = DeleteBlockRuleCommand -> Result<DeleteEvents, RuleDeletedError>\r\n",
    "    // type UpdateRuleActivations = TriggerContext -> RuleActivationEvent list\r\n",
    "\r\n",
    "    // type ListBlockRules = unit -> RuleListItemModel list\r\n",
    "\r\n",
    "    \r\n",
    "    type CreateBlockRule = CreateBlockRuleCommand -> Result<RuleCreated, CreateRuleError list>\r\n",
    "    type Command<'data> = {\r\n",
    "        TimeStamp: DateTime;\r\n",
    "        Data: 'data\r\n",
    "    }\r\n",
    "    type CreateBlockRuleCommand = Command<UnvalidatedBlockRule>\r\n",
    "    type UnvalidatedBlockRule = {\r\n",
    "        Name: string\r\n",
    "        Targets: UnvalidatedBlockTarget list;\r\n",
    "        BlockTriggers: UnvalidatedBlockTrigger list\r\n",
    "    }\r\n",
    "    type UnvalidatedBlockTarget = Site of string\r\n",
    "    type ValidatedBlockTarget = Site of string\r\n",
    "    type UnvalidatedBlockTrigger = Time of (DateTime * DateTime)\r\n",
    "    type RuleCreated = RuleCreated of ValidatedBlockRule\r\n",
    "    type ValidatedBlockRule = {\r\n",
    "        Name: RuleName\r\n",
    "        Site: ValidatedBlockTarget list;\r\n",
    "        BlockTriggers: ValidatedBlockTrigger list\r\n",
    "    }\r\n",
    "    type RuleName = RuleName of string\r\n",
    "    type ValidatedBlockTrigger = TimeTrigger of TimeTrigger\r\n",
    "    type TimeTrigger =  { Start: Time; End: Time }\r\n",
    "    type Time = { Hour: int; Minute: int } \r\n",
    "\r\n",
    "\r\n",
    "    type CreateRuleError = \r\n",
    "        | InvalidName of ErrorReason\r\n",
    "        | InvalidTarget of (UnvalidatedBlockTarget * ErrorReason) \r\n",
    "        | InvalidTrigger of (UnvalidatedBlockTrigger * ErrorReason) \r\n",
    "    type ErrorReason = string\r\n"
   ]
  },
  {
   "cell_type": "code",
   "execution_count": null,
   "metadata": {},
   "outputs": [
    {
     "data": {
      "text/plain": "Installed package Fable.Elmish version 3.1.0"
     },
     "output_type": "unknown"
    }
   ],
   "source": [
    "#r \"nuget: Fable.Elmish\""
   ]
  },
  {
   "cell_type": "code",
   "execution_count": null,
   "metadata": {},
   "outputs": [],
   "source": [
    "#!fsharp\r\n",
    "open Elmish\r\n",
    "\r\n",
    "type Model =\r\n",
    "    { x : int }\r\n",
    "\r\n",
    "type Msg = \r\n",
    "    | Increment\r\n",
    "    | Decrement\r\n",
    "\r\n",
    "let init () =\r\n",
    "    { x = 0 }, Cmd.ofMsg Increment\r\n",
    "\r\n",
    "\r\n",
    "let update msg model =\r\n",
    "    match msg with\r\n",
    "    | Increment when model.x < 3 -> \r\n",
    "        { model with x = model.x + 1 }, Cmd.ofMsg Increment\r\n",
    "    \r\n",
    "    | Increment -> \r\n",
    "        { model with x = model.x + 1 }, Cmd.ofMsg Decrement\r\n",
    "    \r\n",
    "    | Decrement when model.x > 0 -> \r\n",
    "        { model with x = model.x - 1 }, Cmd.ofMsg Decrement\r\n",
    "    \r\n",
    "    | Decrement -> \r\n",
    "        { model with x = model.x - 1 }, Cmd.ofMsg Increment\r\n",
    "\r\n",
    "\r\n",
    "\r\n",
    "// Program.mkProgram init update (fun model _ -> printf \"%A\\n\" model)\r\n",
    "// Program.with\r\n",
    "// |> Program.run"
   ]
  },
  {
   "cell_type": "code",
   "execution_count": 2,
   "metadata": {},
   "outputs": [
    {
     "name": "stderr",
     "output_type": "stream",
     "text": [
      "\n",
      "(1,8): error CS0246: The type or namespace name 'record' could not be found (are you missing a using directive or an assembly reference?)\n",
      "\n",
      "(1,15): error CS0501: 'Color(int, int, int)' must declare a body because it is not marked abstract, extern, or partial\n",
      "\n",
      "(4,19): error CS0246: The type or namespace name 'Color' could not be found (are you missing a using directive or an assembly reference?)\n",
      "\n",
      "(5,19): error CS0246: The type or namespace name 'Color' could not be found (are you missing a using directive or an assembly reference?)\n",
      "\n",
      "(4,37): error CS0246: The type or namespace name 'Color' could not be found (are you missing a using directive or an assembly reference?)\n",
      "\n",
      "(5,35): error CS0246: The type or namespace name 'Color' could not be found (are you missing a using directive or an assembly reference?)\n",
      "\n"
     ]
    },
    {
     "ename": "Cell not executed",
     "evalue": "compilation error",
     "output_type": "error",
     "traceback": []
    }
   ],
   "source": []
  }
 ],
 "metadata": {
  "kernelspec": {
   "display_name": ".NET (C#)",
   "language": "C#",
   "name": ".net-csharp"
  },
  "language_info": {
   "file_extension": ".cs",
   "mimetype": "text/x-csharp",
   "name": "C#",
   "pygments_lexer": "csharp",
   "version": "8.0"
  }
 },
 "nbformat": 4,
 "nbformat_minor": 4
}
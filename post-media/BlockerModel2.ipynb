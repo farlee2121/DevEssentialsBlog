{
 "cells": [
  {
   "cell_type": "code",
   "execution_count": 1,
   "metadata": {},
   "source": [
    "#!fsharp\n",
    "open System;\n",
    "module rec BlockerModel = \n",
    "    \n",
    "\n",
    "    // type UpdateRuleSchedule = UpdateRuleCommand -> Result<UpdateEvents, ValidateRuleError list>\n",
    "    // type DeleteBlockRule = DeleteBlockRuleCommand -> Result<DeleteEvents, RuleDeletedError>\n",
    "    // type UpdateRuleActivations = TriggerContext -> RuleActivationEvent list\n",
    "\n",
    "    // type ListBlockRules = unit -> RuleListItemModel list\n",
    "\n",
    "    \n",
    "    type CreateBlockRule = CreateBlockRuleCommand -> Result<RuleCreated, CreateRuleError list>\n",
    "    type Command<'data> = {\n",
    "        TimeStamp: DateTime;\n",
    "        Data: 'data\n",
    "    }\n",
    "    type CreateBlockRuleCommand = Command<UnvalidatedBlockRule>\n",
    "    type UnvalidatedBlockRule = {\n",
    "        Name: string\n",
    "        Targets: UnvalidatedBlockTarget list;\n",
    "        BlockTriggers: UnvalidatedBlockTrigger list\n",
    "    }\n",
    "    type UnvalidatedBlockTarget = Site of string\n",
    "    type ValidatedBlockTarget = Site of string\n",
    "    type UnvalidatedBlockTrigger = Time of (DateTime * DateTime)\n",
    "    type RuleCreated = RuleCreated of ValidatedBlockRule\n",
    "    type ValidatedBlockRule = {\n",
    "        Name: RuleName\n",
    "        Site: ValidatedBlockTarget list;\n",
    "        BlockTriggers: ValidatedBlockTrigger list\n",
    "    }\n",
    "    type RuleName = RuleName of string\n",
    "    type ValidatedBlockTrigger = TimeTrigger of TimeTrigger\n",
    "    type TimeTrigger =  { Start: Time; End: Time }\n",
    "    type Time = { Hour: int; Minute: int } \n",
    "\n",
    "\n",
    "    type CreateRuleError = \n",
    "        | InvalidName of ErrorReason\n",
    "        | InvalidTarget of (UnvalidatedBlockTarget * ErrorReason) \n",
    "        | InvalidTrigger of (UnvalidatedBlockTrigger * ErrorReason) \n",
    "    type ErrorReason = string\n",
    ""
   ],
   "outputs": [
    {
     "output_type": "error",
     "ename": "Error",
     "evalue": "input.fsx (16,5)-(16,9) parse error Incomplete structured construct at or before this point in type definition\ninput.fsx (25,1)-(25,68) parse error Incomplete structured construct at or before this point in union case\ninput.fsx (25,68)-(25,68) interactive error parse error",
     "traceback": []
    }
   ]
  }
 ],
 "metadata": {
  "kernelspec": {
   "display_name": ".NET (C#)",
   "language": "C#",
   "name": ".net-csharp"
  },
  "language_info": {
   "file_extension": ".cs",
   "mimetype": "text/x-csharp",
   "name": "C#",
   "pygments_lexer": "csharp",
   "version": "8.0"
  }
 },
 "nbformat": 4,
 "nbformat_minor": 4
}